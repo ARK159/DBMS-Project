{
 "cells": [
  {
   "cell_type": "code",
   "execution_count": 24,
   "metadata": {},
   "outputs": [],
   "source": [
    "import mysql.connector\n",
    "from mysql.connector import Error\n",
    "import pandas as pd\n",
    "import matplotlib.pyplot as plt"
   ]
  },
  {
   "cell_type": "code",
   "execution_count": 25,
   "metadata": {},
   "outputs": [],
   "source": [
    "def create_server_connection(host_name, user_name, user_password):\n",
    "    connection = None\n",
    "    try:\n",
    "        connection = mysql.connector.connect(\n",
    "            host=host_name,\n",
    "            user=user_name,\n",
    "            passwd=user_password\n",
    "        )\n",
    "        print(\"MySQL Database connection successful\")\n",
    "    except Error as err:\n",
    "        print(f\"Error: '{err}'\")\n",
    "\n",
    "    return connection\n",
    "\n",
    "\n",
    "def create_db_connection(host_name, user_name, user_password, db_name):\n",
    "    connection = None\n",
    "    try:\n",
    "        connection = mysql.connector.connect(\n",
    "            host=host_name,\n",
    "            user=user_name,\n",
    "            passwd=user_password,\n",
    "            database=db_name\n",
    "        )\n",
    "        print(\"MySQL Database connection successful\")\n",
    "    except Error as err:\n",
    "        print(f\"Error: '{err}'\")\n",
    "\n",
    "    return connection\n",
    "\n",
    "def create_database(connection, query):\n",
    "    cursor = connection.cursor(buffered=True)\n",
    "    \n",
    "    try:\n",
    "        cursor.execute(query)\n",
    "        print(\"Database created successfully\")\n",
    "    except Error as err:\n",
    "        print(f\"Error: '{err}'\")\n",
    "        \n",
    "\n",
    "\n",
    "def execute_query(connection, query):\n",
    "    cursor = connection.cursor(buffered=True)\n",
    "    try:\n",
    "        cursor.execute(query)\n",
    "        print(\"Query successful\")\n",
    "    except Error as err:\n",
    "        print(f\"Error: '{err}'\")\n",
    "    return cursor\n"
   ]
  },
  {
   "cell_type": "code",
   "execution_count": 26,
   "metadata": {},
   "outputs": [
    {
     "name": "stdout",
     "output_type": "stream",
     "text": [
      "MySQL Database connection successful\n"
     ]
    }
   ],
   "source": [
    "# # connection=create_server_connection('localhost','debian-sys-maint','ga0I3qtciBp4nibQ')\n",
    "connection=create_server_connection('localhost','root','')\n"
   ]
  },
  {
   "cell_type": "code",
   "execution_count": 27,
   "metadata": {},
   "outputs": [
    {
     "name": "stdout",
     "output_type": "stream",
     "text": [
      "Query successful\n"
     ]
    },
    {
     "data": {
      "text/plain": [
       "<mysql.connector.cursor_cext.CMySQLCursorBuffered at 0x7f39a41e5d20>"
      ]
     },
     "execution_count": 27,
     "metadata": {},
     "output_type": "execute_result"
    }
   ],
   "source": [
    "query=\"drop database Project\"\n",
    "execute_query(connection,query)"
   ]
  },
  {
   "cell_type": "code",
   "execution_count": 28,
   "metadata": {},
   "outputs": [
    {
     "name": "stdout",
     "output_type": "stream",
     "text": [
      "Database created successfully\n",
      "MySQL Database connection successful\n"
     ]
    }
   ],
   "source": [
    "create_database(connection,\"Create Database Project\")\n",
    "connection=create_db_connection('localhost','root','','Project')"
   ]
  },
  {
   "cell_type": "code",
   "execution_count": 29,
   "metadata": {},
   "outputs": [
    {
     "name": "stdout",
     "output_type": "stream",
     "text": [
      "Query successful\n"
     ]
    },
    {
     "data": {
      "text/plain": [
       "<mysql.connector.cursor_cext.CMySQLCursorBuffered at 0x7f39a41e7be0>"
      ]
     },
     "execution_count": 29,
     "metadata": {},
     "output_type": "execute_result"
    }
   ],
   "source": [
    "query=\"\"\"Create Table Cart(\n",
    "  Cart_id varchar(12) not null,\n",
    "  primary key(Cart_id)\n",
    "  )\n",
    "\"\"\"\n",
    "execute_query(connection,query)\n"
   ]
  },
  {
   "cell_type": "code",
   "execution_count": 30,
   "metadata": {},
   "outputs": [
    {
     "name": "stdout",
     "output_type": "stream",
     "text": [
      "Query successful\n"
     ]
    },
    {
     "data": {
      "text/plain": [
       "<mysql.connector.cursor_cext.CMySQLCursorBuffered at 0x7f39a41e7d30>"
      ]
     },
     "execution_count": 30,
     "metadata": {},
     "output_type": "execute_result"
    }
   ],
   "source": [
    "query = \"\"\"CREATE TABLE User(\n",
    "    User_id INT(11) NOT NULL,\n",
    "    User_Password varchar(13) NOT NULL,\n",
    "    PRIMARY KEY (User_id)   \n",
    ");\"\"\"\n",
    "\n",
    "execute_query(connection, query)\n"
   ]
  },
  {
   "cell_type": "code",
   "execution_count": 31,
   "metadata": {},
   "outputs": [
    {
     "name": "stdout",
     "output_type": "stream",
     "text": [
      "Query successful\n"
     ]
    },
    {
     "data": {
      "text/plain": [
       "<mysql.connector.cursor_cext.CMySQLCursorBuffered at 0x7f39a41e76a0>"
      ]
     },
     "execution_count": 31,
     "metadata": {},
     "output_type": "execute_result"
    }
   ],
   "source": [
    "query=\"\"\"CREATE TABLE Customer (\n",
    "    Customer_id VARCHAR(6) NOT NULL,\n",
    "    c_pass VARCHAR(10) NOT NULL,\n",
    "    Name VARCHAR(20) NOT NULL,\n",
    "    Address VARCHAR(20) NOT NULL,\n",
    "    Pincode INT(6) NOT NULL,\n",
    "    Phone_number_s BIGINT(20) NOT NULL,\n",
    "    PRIMARY KEY (Customer_id),\n",
    "    Cart_id VARCHAR(7) NOT NULL,\n",
    "    User_id INT(11) NOT NULL,\n",
    "    FOREIGN KEY (Cart_id) REFERENCES Cart (Cart_id),\n",
    "    FOREIGN KEY (User_id) REFERENCES User (User_id)\n",
    ");\"\"\"\n",
    "execute_query(connection,query)\n",
    "\n",
    "\n"
   ]
  },
  {
   "cell_type": "code",
   "execution_count": 32,
   "metadata": {},
   "outputs": [
    {
     "name": "stdout",
     "output_type": "stream",
     "text": [
      "Query successful\n"
     ]
    },
    {
     "data": {
      "text/plain": [
       "<mysql.connector.cursor_cext.CMySQLCursorBuffered at 0x7f39a41e5540>"
      ]
     },
     "execution_count": 32,
     "metadata": {},
     "output_type": "execute_result"
    }
   ],
   "source": [
    "query=\"\"\"CREATE TABLE Seller\n",
    "    (\n",
    "        Seller_id VARCHAR(6) NOT NULL,\n",
    "        s_pass VARCHAR(10) NOT NULL,\n",
    "        Name VARCHAR(20) NOT NULL,\n",
    "        Address VARCHAR(10) NOT NULL,\n",
    "        PRIMARY KEY (Seller_id)\n",
    "    );\"\"\"\n",
    "execute_query(connection,query)"
   ]
  },
  {
   "cell_type": "code",
   "execution_count": 33,
   "metadata": {},
   "outputs": [
    {
     "name": "stdout",
     "output_type": "stream",
     "text": [
      "Query successful\n"
     ]
    },
    {
     "data": {
      "text/plain": [
       "<mysql.connector.cursor_cext.CMySQLCursorBuffered at 0x7f39a41e7f10>"
      ]
     },
     "execution_count": 33,
     "metadata": {},
     "output_type": "execute_result"
    }
   ],
   "source": [
    "query=\"\"\"CREATE TABLE Seller_Phone_num\n",
    "    (\n",
    "        Phone_num BIGINT(10) NOT NULL,\n",
    "        Seller_id VARCHAR(6) NOT NULL,\n",
    "        PRIMARY KEY (Phone_num, Seller_id),\n",
    "        FOREIGN KEY (Seller_id) REFERENCES Seller(Seller_id)\n",
    "        ON DELETE CASCADE\n",
    "    );\"\"\"\n",
    "execute_query(connection,query)\n",
    "\n",
    "\n"
   ]
  },
  {
   "cell_type": "code",
   "execution_count": 34,
   "metadata": {},
   "outputs": [
    {
     "name": "stdout",
     "output_type": "stream",
     "text": [
      "Query successful\n"
     ]
    },
    {
     "data": {
      "text/plain": [
       "<mysql.connector.cursor_cext.CMySQLCursorBuffered at 0x7f39a41e5c60>"
      ]
     },
     "execution_count": 34,
     "metadata": {},
     "output_type": "execute_result"
    }
   ],
   "source": [
    "query=\"\"\"CREATE TABLE Payment\n",
    "    (\n",
    "        payment_id VARCHAR(7) NOT NULL,\n",
    "        payment_date DATE NOT NULL,\n",
    "        Payment_type VARCHAR(10) NOT NULL,\n",
    "        Customer_id VARCHAR(6) NOT NULL,\n",
    "        Cart_id VARCHAR(7) NOT NULL,\n",
    "        PRIMARY KEY (payment_id),\n",
    "        FOREIGN KEY (Customer_id) REFERENCES Customer(Customer_id),\n",
    "        FOREIGN KEY (Cart_id) REFERENCES Cart(Cart_id),\n",
    "        total_amount numeric(6)\n",
    "    );\"\"\"\n",
    "execute_query(connection,query)\n",
    "\n",
    "\n"
   ]
  },
  {
   "cell_type": "code",
   "execution_count": 35,
   "metadata": {},
   "outputs": [
    {
     "name": "stdout",
     "output_type": "stream",
     "text": [
      "Query successful\n"
     ]
    },
    {
     "data": {
      "text/plain": [
       "<mysql.connector.cursor_cext.CMySQLCursorBuffered at 0x7f39a41e7610>"
      ]
     },
     "execution_count": 35,
     "metadata": {},
     "output_type": "execute_result"
    }
   ],
   "source": [
    "query=\"\"\"CREATE TABLE Product\n",
    "    (\n",
    "        Product_id VARCHAR(7) NOT NULL,\n",
    "        Type VARCHAR(7) NOT NULL,\n",
    "        Color VARCHAR(15) NOT NULL,\n",
    "        P_Size VARCHAR(2) NOT NULL,\n",
    "        Gender CHAR(1) NOT NULL,\n",
    "        Commission INT(2) NOT NULL,\n",
    "        Cost INT(5) NOT NULL,\n",
    "        Quantity INT(2) NOT NULL,\n",
    "        Seller_id VARCHAR(6),\n",
    "        PRIMARY KEY (Product_id),\n",
    "        FOREIGN KEY (Seller_id) REFERENCES Seller(Seller_id)\n",
    "        ON DELETE SET NULL\n",
    "    );\n",
    "\"\"\"\n",
    "execute_query(connection,query)\n",
    "\n",
    "\n"
   ]
  },
  {
   "cell_type": "code",
   "execution_count": 36,
   "metadata": {},
   "outputs": [
    {
     "name": "stdout",
     "output_type": "stream",
     "text": [
      "Query successful\n"
     ]
    },
    {
     "data": {
      "text/plain": [
       "<mysql.connector.cursor_cext.CMySQLCursorBuffered at 0x7f39a41e5ae0>"
      ]
     },
     "execution_count": 36,
     "metadata": {},
     "output_type": "execute_result"
    }
   ],
   "source": [
    "query=\"\"\"CREATE TABLE Cart_item\n",
    "    (\n",
    "        Quantity_wished INT(1) check (Quantity_wished <> 0),\n",
    "        Date_Added DATE NOT NULL,\n",
    "        Cart_id VARCHAR(7) NOT NULL,\n",
    "        Product_id VARCHAR(7) NOT NULL,\n",
    "        purchased varchar(3) default 'NO',\n",
    "        FOREIGN KEY (Cart_id) REFERENCES Cart(Cart_id),\n",
    "        FOREIGN KEY (Product_id) REFERENCES Product(Product_id),\n",
    "        Primary key(Cart_id,Product_id)\n",
    "    );\"\"\"\n",
    "execute_query(connection,query)"
   ]
  },
  {
   "cell_type": "code",
   "execution_count": 37,
   "metadata": {},
   "outputs": [],
   "source": [
    "cursor=connection.cursor()"
   ]
  },
  {
   "cell_type": "code",
   "execution_count": 38,
   "metadata": {},
   "outputs": [
    {
     "name": "stdout",
     "output_type": "stream",
     "text": [
      "Query successful\n"
     ]
    },
    {
     "data": {
      "text/plain": [
       "<mysql.connector.cursor_cext.CMySQLCursorBuffered at 0x7f39a41e6b60>"
      ]
     },
     "execution_count": 38,
     "metadata": {},
     "output_type": "execute_result"
    }
   ],
   "source": [
    "query=\"\"\"insert into Cart values('crt1011');\"\"\"\n",
    "execute_query(connection,query)"
   ]
  },
  {
   "cell_type": "code",
   "execution_count": 39,
   "metadata": {},
   "outputs": [
    {
     "name": "stdout",
     "output_type": "stream",
     "text": [
      "Query successful\n"
     ]
    },
    {
     "data": {
      "text/plain": [
       "<mysql.connector.cursor_cext.CMySQLCursorBuffered at 0x7f39a41e74c0>"
      ]
     },
     "execution_count": 39,
     "metadata": {},
     "output_type": "execute_result"
    }
   ],
   "source": [
    "query=\"select * from Cart\"\n",
    "execute_query(connection,query)"
   ]
  },
  {
   "cell_type": "code",
   "execution_count": 40,
   "metadata": {},
   "outputs": [
    {
     "name": "stdout",
     "output_type": "stream",
     "text": [
      "Query successful\n"
     ]
    },
    {
     "data": {
      "text/plain": [
       "<mysql.connector.cursor_cext.CMySQLCursorBuffered at 0x7f39a41e7a60>"
      ]
     },
     "execution_count": 40,
     "metadata": {},
     "output_type": "execute_result"
    }
   ],
   "source": [
    "query=\"\"\"\n",
    "    insert into User values(1,'abc');\n",
    "   \"\"\"\n",
    "execute_query(connection,query)"
   ]
  },
  {
   "cell_type": "code",
   "execution_count": 41,
   "metadata": {},
   "outputs": [
    {
     "name": "stdout",
     "output_type": "stream",
     "text": [
      "Query successful\n",
      "Query successful\n",
      "Query successful\n",
      "Query successful\n",
      "Query successful\n",
      "Query successful\n"
     ]
    },
    {
     "data": {
      "text/plain": [
       "<mysql.connector.cursor_cext.CMySQLCursorBuffered at 0x7f39a41e7340>"
      ]
     },
     "execution_count": 41,
     "metadata": {},
     "output_type": "execute_result"
    }
   ],
   "source": [
    "query=\"\"\"insert into Customer values('cid100','ABCM1235','rajat','G-453','632014',9893135876, 'crt1011','1');\"\"\"\n",
    "execute_query(connection,query)\n",
    "query=\"insert into Seller values('sid100','12345','aman','delhi cmc');\"\n",
    "execute_query(connection,query)\n",
    "\n",
    "query=\" insert into Product values('pid1001','jeans','red','32','M',10,10005,20,'sid100');\"\n",
    "execute_query(connection,query)\n",
    "\n",
    "query=\" insert into Seller_Phone_num values('9943336206','sid100');\"\n",
    "execute_query(connection,query)\n",
    "\n",
    "query=\"insert into Cart_item values(3,'1999-10-10','crt1011','pid1001','Y');\"\n",
    "execute_query(connection,query)\n",
    "\n",
    "query=\" insert into Payment values('pmt1001','1999-10-10','online','cid100','crt1011',NULL);\"\n",
    "execute_query(connection,query)"
   ]
  },
  {
   "cell_type": "code",
   "execution_count": 42,
   "metadata": {},
   "outputs": [
    {
     "name": "stdout",
     "output_type": "stream",
     "text": [
      "Query successful\n"
     ]
    }
   ],
   "source": [
    "query=\"select * from Payment\"\n",
    "cursor=execute_query(connection,query)\n",
    "result=cursor.fetchall()"
   ]
  },
  {
   "cell_type": "code",
   "execution_count": 44,
   "metadata": {},
   "outputs": [
    {
     "name": "stdout",
     "output_type": "stream",
     "text": [
      "[('pmt1001', datetime.date(1999, 10, 10), 'online', 'cid100', 'crt1011', None)]\n"
     ]
    }
   ],
   "source": [
    "print(result)"
   ]
  },
  {
   "cell_type": "code",
   "execution_count": null,
   "metadata": {},
   "outputs": [],
   "source": []
  },
  {
   "cell_type": "markdown",
   "metadata": {},
   "source": []
  },
  {
   "cell_type": "code",
   "execution_count": null,
   "metadata": {},
   "outputs": [],
   "source": [
    "\n"
   ]
  },
  {
   "cell_type": "code",
   "execution_count": 43,
   "metadata": {},
   "outputs": [
    {
     "ename": "SystemExit",
     "evalue": "1",
     "output_type": "error",
     "traceback": [
      "\u001b[0;31m---------------------------------------------------------------------------\u001b[0m",
      "\u001b[0;31mSystemExit\u001b[0m                                Traceback (most recent call last)",
      "Cell \u001b[0;32mIn[23], line 1\u001b[0m\n\u001b[0;32m----> 1\u001b[0m app\u001b[39m.\u001b[39;49mrun(debug\u001b[39m=\u001b[39;49m\u001b[39mTrue\u001b[39;49;00m)\n",
      "File \u001b[0;32m/usr/lib/python3/dist-packages/flask/app.py:922\u001b[0m, in \u001b[0;36mFlask.run\u001b[0;34m(self, host, port, debug, load_dotenv, **options)\u001b[0m\n\u001b[1;32m    919\u001b[0m \u001b[39mfrom\u001b[39;00m \u001b[39mwerkzeug\u001b[39;00m\u001b[39m.\u001b[39;00m\u001b[39mserving\u001b[39;00m \u001b[39mimport\u001b[39;00m run_simple\n\u001b[1;32m    921\u001b[0m \u001b[39mtry\u001b[39;00m:\n\u001b[0;32m--> 922\u001b[0m     run_simple(t\u001b[39m.\u001b[39;49mcast(\u001b[39mstr\u001b[39;49m, host), port, \u001b[39mself\u001b[39;49m, \u001b[39m*\u001b[39;49m\u001b[39m*\u001b[39;49moptions)\n\u001b[1;32m    923\u001b[0m \u001b[39mfinally\u001b[39;00m:\n\u001b[1;32m    924\u001b[0m     \u001b[39m# reset the first request information if the development server\u001b[39;00m\n\u001b[1;32m    925\u001b[0m     \u001b[39m# reset normally.  This makes it possible to restart the server\u001b[39;00m\n\u001b[1;32m    926\u001b[0m     \u001b[39m# without reloader and that stuff from an interactive shell.\u001b[39;00m\n\u001b[1;32m    927\u001b[0m     \u001b[39mself\u001b[39m\u001b[39m.\u001b[39m_got_first_request \u001b[39m=\u001b[39m \u001b[39mFalse\u001b[39;00m\n",
      "File \u001b[0;32m~/.local/lib/python3.10/site-packages/werkzeug/serving.py:1097\u001b[0m, in \u001b[0;36mrun_simple\u001b[0;34m(hostname, port, application, use_reloader, use_debugger, use_evalex, extra_files, exclude_patterns, reloader_interval, reloader_type, threaded, processes, request_handler, static_files, passthrough_errors, ssl_context)\u001b[0m\n\u001b[1;32m   1094\u001b[0m \u001b[39mfrom\u001b[39;00m \u001b[39m.\u001b[39;00m\u001b[39m_reloader\u001b[39;00m \u001b[39mimport\u001b[39;00m run_with_reloader\n\u001b[1;32m   1096\u001b[0m \u001b[39mtry\u001b[39;00m:\n\u001b[0;32m-> 1097\u001b[0m     run_with_reloader(\n\u001b[1;32m   1098\u001b[0m         srv\u001b[39m.\u001b[39;49mserve_forever,\n\u001b[1;32m   1099\u001b[0m         extra_files\u001b[39m=\u001b[39;49mextra_files,\n\u001b[1;32m   1100\u001b[0m         exclude_patterns\u001b[39m=\u001b[39;49mexclude_patterns,\n\u001b[1;32m   1101\u001b[0m         interval\u001b[39m=\u001b[39;49mreloader_interval,\n\u001b[1;32m   1102\u001b[0m         reloader_type\u001b[39m=\u001b[39;49mreloader_type,\n\u001b[1;32m   1103\u001b[0m     )\n\u001b[1;32m   1104\u001b[0m \u001b[39mfinally\u001b[39;00m:\n\u001b[1;32m   1105\u001b[0m     srv\u001b[39m.\u001b[39mserver_close()\n",
      "File \u001b[0;32m~/.local/lib/python3.10/site-packages/werkzeug/_reloader.py:456\u001b[0m, in \u001b[0;36mrun_with_reloader\u001b[0;34m(main_func, extra_files, exclude_patterns, interval, reloader_type)\u001b[0m\n\u001b[1;32m    454\u001b[0m             reloader\u001b[39m.\u001b[39mrun()\n\u001b[1;32m    455\u001b[0m     \u001b[39melse\u001b[39;00m:\n\u001b[0;32m--> 456\u001b[0m         sys\u001b[39m.\u001b[39;49mexit(reloader\u001b[39m.\u001b[39;49mrestart_with_reloader())\n\u001b[1;32m    457\u001b[0m \u001b[39mexcept\u001b[39;00m \u001b[39mKeyboardInterrupt\u001b[39;00m:\n\u001b[1;32m    458\u001b[0m     \u001b[39mpass\u001b[39;00m\n",
      "\u001b[0;31mSystemExit\u001b[0m: 1"
     ]
    }
   ],
   "source": [
    "%tb"
   ]
  },
  {
   "cell_type": "code",
   "execution_count": null,
   "metadata": {},
   "outputs": [],
   "source": []
  },
  {
   "cell_type": "code",
   "execution_count": null,
   "metadata": {},
   "outputs": [],
   "source": []
  }
 ],
 "metadata": {
  "kernelspec": {
   "display_name": "Python 3",
   "language": "python",
   "name": "python3"
  },
  "language_info": {
   "codemirror_mode": {
    "name": "ipython",
    "version": 3
   },
   "file_extension": ".py",
   "mimetype": "text/x-python",
   "name": "python",
   "nbconvert_exporter": "python",
   "pygments_lexer": "ipython3",
   "version": "3.10.6"
  },
  "orig_nbformat": 4
 },
 "nbformat": 4,
 "nbformat_minor": 2
}
